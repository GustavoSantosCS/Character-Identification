{
 "cells": [
  {
   "cell_type": "code",
   "execution_count": 1,
   "metadata": {},
   "outputs": [],
   "source": [
    "import tensorflow as tf"
   ]
  },
  {
   "cell_type": "code",
   "execution_count": 2,
   "metadata": {},
   "outputs": [],
   "source": [
    "mnist = tf.keras.datasets.mnist\n",
    "(x_train, y_train), (x_test, y_test) = mnist.load_data()\n",
    "x_train, x_test = x_train/255, x_test/255"
   ]
  },
  {
   "cell_type": "code",
   "execution_count": 3,
   "metadata": {},
   "outputs": [],
   "source": [
    "model = tf.keras.Sequential([\n",
    "      tf.keras.layers.Flatten(input_shape=(28,28)),\n",
    "      tf.keras.layers.Dense(512, activation=\"relu\"),        \n",
    "      tf.keras.layers.Dropout(0.1),\n",
    "      tf.keras.layers.Dense(10)\n",
    "])"
   ]
  },
  {
   "cell_type": "code",
   "execution_count": 4,
   "metadata": {},
   "outputs": [],
   "source": [
    "loss_fn = tf.keras.losses.SparseCategoricalCrossentropy(True)\n",
    "model.compile(optimizer=\"adam\", loss=loss_fn, metrics=[\"accuracy\"])"
   ]
  },
  {
   "cell_type": "code",
   "execution_count": 5,
   "metadata": {},
   "outputs": [
    {
     "name": "stdout",
     "output_type": "stream",
     "text": [
      "Train on 60000 samples\n",
      "Epoch 1/7\n",
      "60000/60000 [==============================] - 18s 295us/sample - loss: 0.2070 - accuracy: 0.9392\n",
      "Epoch 2/7\n",
      "60000/60000 [==============================] - 12s 204us/sample - loss: 0.0869 - accuracy: 0.9738\n",
      "Epoch 3/7\n",
      "60000/60000 [==============================] - 12s 201us/sample - loss: 0.0595 - accuracy: 0.9814\n",
      "Epoch 4/7\n",
      "60000/60000 [==============================] - 11s 190us/sample - loss: 0.0456 - accuracy: 0.9853\n",
      "Epoch 5/7\n",
      "60000/60000 [==============================] - 12s 202us/sample - loss: 0.0349 - accuracy: 0.9884\n",
      "Epoch 6/7\n",
      "60000/60000 [==============================] - 12s 197us/sample - loss: 0.0277 - accuracy: 0.9905\n",
      "Epoch 7/7\n",
      "60000/60000 [==============================] - 12s 196us/sample - loss: 0.0229 - accuracy: 0.9925\n"
     ]
    },
    {
     "data": {
      "text/plain": [
       "<tensorflow.python.keras.callbacks.History at 0x294d2351a90>"
      ]
     },
     "execution_count": 5,
     "metadata": {},
     "output_type": "execute_result"
    }
   ],
   "source": [
    "model.fit(x_train, y_train, epochs=7)"
   ]
  },
  {
   "cell_type": "code",
   "execution_count": 6,
   "metadata": {},
   "outputs": [
    {
     "name": "stdout",
     "output_type": "stream",
     "text": [
      "10000/10000 [==============================] - 2s 216us/sample - loss: 0.0703 - accuracy: 0.9808\n",
      "[0.07033664587466555, 0.9808]\n"
     ]
    }
   ],
   "source": [
    "print(model.evaluate(x_test, y_test))"
   ]
  },
  {
   "cell_type": "code",
   "execution_count": 7,
   "metadata": {},
   "outputs": [],
   "source": [
    "import numpy as np\n",
    "from PIL import Image\n",
    "import matplotlib.pyplot as plt\n",
    "%matplotlib inline"
   ]
  },
  {
   "cell_type": "code",
   "execution_count": 8,
   "metadata": {
    "scrolled": true
   },
   "outputs": [
    {
     "name": "stdout",
     "output_type": "stream",
     "text": [
      "Class real:  3\n",
      "Previsão para imagem de teste: 3\n"
     ]
    },
    {
     "data": {
      "image/png": "[encoded data removed]",
      "text/plain": [
       "<Figure size 432x288 with 1 Axes>"
      ]
     },
     "metadata": {
      "needs_background": "light"
     },
     "output_type": "display_data"
    }
   ],
   "source": [
    "index = 173\n",
    "img = x_test[index]\n",
    "\n",
    "plt.imshow(img.reshape((28,28)) , cmap = 'gray')\n",
    "\n",
    "prediction = model.predict(np.array([img]))\n",
    "\n",
    "print ('Class real: ', y_test[index]) \n",
    "print (\"Previsão para imagem de teste:\", np.argmax(prediction))"
   ]
  },
  {
   "cell_type": "code",
   "execution_count": 9,
   "metadata": {
    "scrolled": false
   },
   "outputs": [
    {
     "name": "stdout",
     "output_type": "stream",
     "text": [
      "[[ -8615.207      881.0996   -1039.2393     361.16653 -18554.871\n",
      "    4248.936    -3122.5642   -1215.8438  -12068.571   -18114.549  ]]\n",
      "Previsão para imagem de teste: 5\n"
     ]
    },
    {
     "data": {
      "image/png": "[encoded data removed]",
      "text/plain": [
       "<Figure size 432x288 with 1 Axes>"
      ]
     },
     "metadata": {
      "needs_background": "light"
     },
     "output_type": "display_data"
    }
   ],
   "source": [
    "img = np.invert(Image.open(\"test.jpeg\").convert('L'))\n",
    "\n",
    "plt.imshow(img.reshape((28,28)), cmap = 'gray')\n",
    "prediction = model.predict(np.array([img]))\n",
    "print(prediction)\n",
    "print (\"Previsão para imagem de teste:\", np.argmax(prediction))"
   ]
  },
  {
   "cell_type": "code",
   "execution_count": 10,
   "metadata": {
    "scrolled": true
   },
   "outputs": [],
   "source": [
    "keras_file = 'mnist_model.h5'\n",
    "tf.keras.models.save_model(model, keras_file)"
   ]
  },
  {
   "cell_type": "code",
   "execution_count": 11,
   "metadata": {},
   "outputs": [
    {
     "data": {
      "text/plain": [
       "1629404"
      ]
     },
     "execution_count": 11,
     "metadata": {},
     "output_type": "execute_result"
    }
   ],
   "source": [
    "converter = tf.compat.v1.lite.TFLiteConverter.from_keras_model_file(keras_file)\n",
    "converter.experimental_new_converter = True\n",
    "tflite_model = converter.convert()\n",
    "open(\"linear.tflite\", \"wb\").write(tflite_model)"
   ]
  }
 ],
 "metadata": {
  "kernelspec": {
   "display_name": "Python 3",
   "language": "python",
   "name": "python3"
  },
  "language_info": {
   "codemirror_mode": {
    "name": "ipython",
    "version": 3
   },
   "file_extension": ".py",
   "mimetype": "text/x-python",
   "name": "python",
   "nbconvert_exporter": "python",
   "pygments_lexer": "ipython3",
   "version": "3.6.12"
  }
 },
 "nbformat": 4,
 "nbformat_minor": 4
}
